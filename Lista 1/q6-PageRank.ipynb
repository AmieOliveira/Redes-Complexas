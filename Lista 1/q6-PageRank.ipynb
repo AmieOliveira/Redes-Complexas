{
 "cells": [
  {
   "cell_type": "code",
   "execution_count": 13,
   "metadata": {},
   "outputs": [],
   "source": [
    "import numpy as np\n",
    "import pprint"
   ]
  },
  {
   "cell_type": "code",
   "execution_count": 2,
   "metadata": {},
   "outputs": [],
   "source": [
    "# Informações da rede\n",
    "\n",
    "n_nodes = 5\n",
    "\n",
    "A = np.array([[0, 0, 1, 1, 0], \n",
    "              [1, 0, 0, 0, 1], \n",
    "              [0, 0, 0, 1, 0], \n",
    "              [0, 1, 0, 0, 1],\n",
    "              [0, 0, 0, 1, 0]])\n",
    "\n",
    "# Informações do cálculo do PageRank\n",
    "alpha = [0.1, 0.9]\n",
    "iteracoes = [5, 10, 30]"
   ]
  },
  {
   "cell_type": "code",
   "execution_count": 3,
   "metadata": {},
   "outputs": [],
   "source": [
    "# Cálculo do grau de cada vértice\n",
    "d_s = np.zeros(n_nodes)\n",
    "\n",
    "for i in range(n_nodes):\n",
    "    for j in range(n_nodes):\n",
    "        d_s[i] += A[i,j]\n"
   ]
  },
  {
   "cell_type": "code",
   "execution_count": 19,
   "metadata": {},
   "outputs": [
    {
     "name": "stdout",
     "output_type": "stream",
     "text": [
      "\n",
      "{(0.1, 5): array([0.18957131, 0.19142631, 0.18947856, 0.22852619, 0.20099762]),\n",
      " (0.1, 10): array([0.18957132, 0.19142631, 0.18947857, 0.22852618, 0.20099762]),\n",
      " (0.1, 30): array([0.18957132, 0.19142631, 0.18947857, 0.22852618, 0.20099762]),\n",
      " (0.9, 5): array([0.10326181, 0.18871681, 0.06480706, 0.37123569, 0.27197863]),\n",
      " (0.9, 10): array([0.10408863, 0.18693172, 0.06693182, 0.37102748, 0.27102035]),\n",
      " (0.9, 30): array([0.10412645, 0.18694768, 0.0668569 , 0.37099484, 0.27107413])}\n"
     ]
    }
   ],
   "source": [
    "# Cálculo Iterativo\n",
    "results = {}\n",
    "\n",
    "for alp in alpha:\n",
    "    nit = max(iteracoes)\n",
    "    \n",
    "    # Condições iniciais\n",
    "    x_0 = np.ones(n_nodes)/n_nodes\n",
    "    x = np.zeros(n_nodes)\n",
    "    #print(x_0)\n",
    "    \n",
    "    for it in range(nit):\n",
    "        for i in range(n_nodes):\n",
    "            soma = 0\n",
    "            for j in range(n_nodes):\n",
    "                soma += A[j,i]*x_0[j]/d_s[j]\n",
    "            x[i] = alp*soma + (1 - alp)/n_nodes\n",
    "            \n",
    "        x_0 = np.array(x, copy=True)\n",
    "        #print(x)\n",
    "        \n",
    "        if it+1 in iteracoes:\n",
    "            results[(alp,it+1)] = x_0\n",
    "\n",
    "print()\n",
    "pp = pprint.PrettyPrinter()\n",
    "pp.pprint(results)"
   ]
  },
  {
   "cell_type": "code",
   "execution_count": null,
   "metadata": {},
   "outputs": [],
   "source": []
  }
 ],
 "metadata": {
  "kernelspec": {
   "display_name": "Python 3",
   "language": "python",
   "name": "python3"
  },
  "language_info": {
   "codemirror_mode": {
    "name": "ipython",
    "version": 3
   },
   "file_extension": ".py",
   "mimetype": "text/x-python",
   "name": "python",
   "nbconvert_exporter": "python",
   "pygments_lexer": "ipython3",
   "version": "3.7.7"
  }
 },
 "nbformat": 4,
 "nbformat_minor": 1
}
